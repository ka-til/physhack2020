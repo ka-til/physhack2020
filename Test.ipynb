{
 "cells": [
  {
   "cell_type": "code",
   "execution_count": 6,
   "metadata": {},
   "outputs": [
    {
     "data": {
      "text/plain": [
       "'\\nNeed to move this to a .py script later on!\\n'"
      ]
     },
     "execution_count": 6,
     "metadata": {},
     "output_type": "execute_result"
    }
   ],
   "source": [
    "import numpy as np\n",
    "import matplotlib.pylab as plt\n",
    "import scipy.constants as spc\n",
    "from scipy.integrate import quad\n",
    "'''\n",
    "Need to move this to a .py script later on!\n",
    "'''"
   ]
  },
  {
   "cell_type": "code",
   "execution_count": 4,
   "metadata": {},
   "outputs": [
    {
     "data": {
      "text/plain": [
       "'\\nConventions \\n\\nv = wavenumber[cm^-1] --- number if waves per cm. v = f/c\\ntau = transmittance --- ratio of transmitted radiance to incident radiance\\nepsilon = emissivity --- ratio of emitted radiance at v to the radiance emitted by the black body at the same temperature\\nalpha = absorptivity --- fraction of incident radiance at v that is absorbed\\n\\n'"
      ]
     },
     "execution_count": 4,
     "metadata": {},
     "output_type": "execute_result"
    }
   ],
   "source": [
    "'''\n",
    "Conventions \n",
    "\n",
    "v = wavenumber[cm^-1] --- number if waves per cm. v = f/c\n",
    "tau = transmittance --- ratio of transmitted radiance to incident radiance\n",
    "epsilon = emissivity --- ratio of emitted radiance at v to the radiance emitted by the black body at the same temperature\n",
    "alpha = absorptivity --- fraction of incident radiance at v that is absorbed\n",
    "g = line shape\n",
    "f = voigt profile\n",
    "'''"
   ]
  },
  {
   "cell_type": "code",
   "execution_count": 7,
   "metadata": {},
   "outputs": [
    {
     "ename": "IndentationError",
     "evalue": "expected an indented block (<ipython-input-7-f2203b267e7d>, line 4)",
     "output_type": "error",
     "traceback": [
      "\u001b[1;36m  File \u001b[1;32m\"<ipython-input-7-f2203b267e7d>\"\u001b[1;36m, line \u001b[1;32m4\u001b[0m\n\u001b[1;33m    def line_shape():\u001b[0m\n\u001b[1;37m    ^\u001b[0m\n\u001b[1;31mIndentationError\u001b[0m\u001b[1;31m:\u001b[0m expected an indented block\n"
     ]
    }
   ],
   "source": [
    "def wavenumber_center(pressure):\n",
    "    P_0 = 1 #[atm] unsure\n",
    "    pressureRatio = pressure/P_0\n",
    "    #delta = \n",
    "    #v_0 =\n",
    "    v_center = v_0 + delta*pressureRatio\n",
    "    return v_center\n",
    "\n",
    "def doppler_broadening(temperature):\n",
    "    '''\n",
    "    For pressures less than 0.1 atm, altitudes below 16 km\n",
    "    '''\n",
    "    T = temperature\n",
    "    v_center = wavenumber_center(pressure) \n",
    "    #m = \n",
    "    sqrt = np.sqrt(2*spc.k*T/(m*spc.c**2))\n",
    "    alpha_d = v_center*sqrt\n",
    "    return alpha_d\n",
    "    \n",
    "def lorentz_broadening(pressure, temperature):\n",
    "    P, T = pressure, temperature\n",
    "    P_0 = 1 #[atm] unsure\n",
    "    T_0 = 296 #[K]\n",
    "    #alphaLorentz_a = \n",
    "    #alphaLorentz_s = \n",
    "    #q = \n",
    "    #gamma = \n",
    "    pressureRatio = P/P_0\n",
    "    tempRatio = T_0/T\n",
    "    alpha_lorentz = ((1-q)*alphaLorentz_a+q*alphaLorentz_s)*pressureRatio*tempRatio**gamma\n",
    "    return alpha_lorentz\n",
    "\n",
    "def integral_func(t, a, b):\n",
    "    val = np.exp(-t**2)/((a - t)**2 + b**2)\n",
    "    return val\n",
    "    \n",
    "def voigt_profile():\n",
    "    alpha_doppler = doppler_broadening(pressure, temperature)\n",
    "    alpha_lorentz = lorentz_broadening(temperature)\n",
    "    #v = \n",
    "    v_center = wavenumber_center(pressure)  \n",
    "    a = (v - v_center)/alpha_doppler\n",
    "    b = alpha_lorentz/alpha_doppler\n",
    "    integral = quad(integral_func, -np.inf, np.inf, )\n",
    "    f = b*integral /(alpha_doppler*np.sqrt(np.pi)*np.pi)\n",
    "    return f\n",
    "\n",
    "def line_shape():\n",
    "    #v =\n",
    "    v_center = wavenumber_center(pressure)  \n",
    "    f = voigt_profile()\n",
    "    tanh = np.tanh(spc.h*spc.c*v/(2*spc.k*))\n",
    "    tanh_center = np.tanh(spc.h*spc.c * v_center/(2*spc.k*))\n",
    "    g = v * tanh * f/(v_center*tanh_center)\n",
    "    return g\n",
    "\n",
    "def line_intensity(temperature):\n",
    "    T = temperature\n",
    "    v_center = wavenumber_center(pressure)\n",
    "    #S_0, T_0 = ,296\n",
    "    #Q_v, Q_r = \n",
    "    #Q_v0, Q_r0 =\n",
    "    #E_l = \n",
    "    exp_lower = np.exp(spc.h*spc.c*E_l/(spc.k*T))\n",
    "    exp_lower0 = np.exp(spc.h*spc.c*E_l/(spc.k*T_0))\n",
    "    exp_center = np.exp(spc.h*spc.c*v_center/(spc.k*T))\n",
    "    exp_center0 = np.exp(spc.h*spc.c*v_center/(spc.k*T))\n",
    "    S = S_0*Q_v0*Q_r0*exp_lower*exp_center/(Q_v*Q_r*exp_lower0*exp_center0)\n",
    "    return S\n",
    "    \n",
    "def transmittance(pressure, temperature):\n",
    "    P = pressure\n",
    "    T = temperature\n",
    "    #x = \n",
    "    #q = \n",
    "    g = line_shape()\n",
    "    #S =\n",
    "    numerator = -q*P*x*S*g\n",
    "    denominator = spc.Boltzmann * T\n",
    "    tau = np.exp(numerator/denominator)\n",
    "    return tau"
   ]
  },
  {
   "cell_type": "code",
   "execution_count": null,
   "metadata": {},
   "outputs": [],
   "source": []
  }
 ],
 "metadata": {
  "kernelspec": {
   "display_name": "Python 3",
   "language": "python",
   "name": "python3"
  },
  "language_info": {
   "codemirror_mode": {
    "name": "ipython",
    "version": 3
   },
   "file_extension": ".py",
   "mimetype": "text/x-python",
   "name": "python",
   "nbconvert_exporter": "python",
   "pygments_lexer": "ipython3",
   "version": "3.8.3"
  }
 },
 "nbformat": 4,
 "nbformat_minor": 4
}
