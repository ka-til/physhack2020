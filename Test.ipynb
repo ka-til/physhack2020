{
 "cells": [
  {
   "cell_type": "code",
   "execution_count": 2,
   "metadata": {},
   "outputs": [
    {
     "data": {
      "text/plain": [
       "'\\nNeed to move this to a .py script later on!\\n'"
      ]
     },
     "execution_count": 2,
     "metadata": {},
     "output_type": "execute_result"
    }
   ],
   "source": [
    "import numpy as np\n",
    "import matplotlib.pylab as plt\n",
    "import scipy.constants as spc\n",
    "from scipy.integrate import quad\n",
    "import pandas as pd\n",
    "from numba import jit\n",
    "\n",
    "'''\n",
    "Need to move this to a .py script later on!\n",
    "'''"
   ]
  },
  {
   "cell_type": "code",
   "execution_count": 19,
   "metadata": {},
   "outputs": [],
   "source": [
    "'''\n",
    "loading datafiles\n",
    "'''\n",
    "\n",
    "class spectrum_singleGas(object):\n",
    "\n",
    "    def __init__(self):\n",
    "        print('Reading the excel file.')\n",
    "        self.excel_file = pd.read_excel(\"Venus Atmosphere.xlsx\")\n",
    "\n",
    "    def setParams(self, text_file):\n",
    "        f = np.loadtxt(text_file, delimiter=',')\n",
    "        molecule_id = f[:, 0]\n",
    "        print('I am molecule ID is '+str(molecule_id[0])+ ' taken from HITRAN database')\n",
    "        \n",
    "        isotopologue_id = f[:, 1]\n",
    "        print('My isotopologue ID is '+str(isotopologue_id[0])+ ' taken from HITRAN database')\n",
    "        \n",
    "        self.v_center = f[:, 2]\n",
    "        self.S_0 = f[:, 3]\n",
    "        self.delta_air = f[:, 4]\n",
    "        self.alphaLorentz_a = f[:, 5]\n",
    "        self.alphaDoppler_s = f[:, 6]\n",
    "        self.gamma = f[:, 7]\n",
    "        self.E_l = f[:, 8]\n",
    "        \n",
    "        self.v_center = self.v_center[0:100]\n",
    "        self.S_0 = self.S_0[0:100]\n",
    "        self.delta_air = self.delta_air[0:100]\n",
    "        self.alphaLorentz_a = self.alphaLorentz_a[0:100]\n",
    "        self.alphaDoppler_s = self.alphaDoppler_s[0:100]\n",
    "        self.gamma = self.gamma[0:100]\n",
    "        self.E_l = self.E_l[0:100]\n",
    "        \n",
    "        if molecule_id[0] == 5.0:\n",
    "            molecule = self.excel_file.CO\n",
    "        if molecule_id[0] == 22.0:\n",
    "            molecule = self.excel_file.N2\n",
    "        if molecule_id[0] == 9.0:\n",
    "            molecule = self.excel_file.SO2\n",
    "        if molecule_id[0] == 1.0:\n",
    "            molecule = self.excel_file.H2O\n",
    "        if molecule_id[0] == 2.0:\n",
    "            molecule = self.excel_file.CO2\n",
    "   \n",
    "        self.q = molecule[0]\n",
    "        self.m = molecule[1]\n",
    "        self.coeff1 = molecule[2] \n",
    "        self.coeff2 = molecule[3]\n",
    "        self.coeff3 = molecule[4]\n",
    "        self.coeff4 = molecule[5]\n",
    "        \n",
    "        self.pressure = 10\n",
    "        self.temperature = 300\n",
    "        self.path_length = 5 #[km] this is fixed parameter\n",
    "        \n",
    "        return self.v_center\n",
    "        \n",
    "    def doppler_broadening(self):\n",
    "        '''\n",
    "        For pressures less than 0.1 atm, altitudes below 16 km\n",
    "        '''\n",
    "        T = self.temperature\n",
    "        v_center = self.v_center\n",
    "        m = self.m\n",
    "        sqrt = np.sqrt(2*spc.k*T/(m*spc.c**2))\n",
    "        alpha_doppler = v_center*sqrt\n",
    "        return alpha_doppler \n",
    "    \n",
    "    def lorentz_broadening(self):\n",
    "        P, T = self.pressure, self.temperature\n",
    "        P_0, T_0 = 1, 296                         #[atm, K]\n",
    "        alphaLorentz_a = self.alphaLorentz_a\n",
    "        alphaLorentz_s = self.alphaDoppler_s\n",
    "        q = self.q\n",
    "        gamma = self.gamma \n",
    "        pressureRatio = P/P_0\n",
    "        tempRatio = T_0/T\n",
    "        alpha_lorentz = ((1-q)*alphaLorentz_a+q*alphaLorentz_s)*pressureRatio*tempRatio**gamma\n",
    "        return alpha_lorentz\n",
    "    \n",
    "    def voigt_profile_substitute(self,v):\n",
    "        v_c = self.v_center\n",
    "        if self.pressure > 0.1:\n",
    "            alpha = self.lorentz_broadening()\n",
    "            a = ((v - v_c)/alpha)**2\n",
    "            f = 1/(np.pi*alpha*(1+a))\n",
    "            return f\n",
    "        else:\n",
    "            alpha = self.doppler_broadening()\n",
    "            sigma = alpha*2/2.355\n",
    "            a = ((v - v_c)/4*sigma)**2\n",
    "            f = np.exp(-a)/(sigma*np.sqrt(2*np.pi))\n",
    "            return f\n",
    "    \n",
    "    def line_shape(self, v):\n",
    "        T = self.temperature\n",
    "        v_center = self.v_center \n",
    "        f = self.voigt_profile_substitute(v)\n",
    "        tanh = np.tanh(spc.h*spc.c*v/(2*spc.k*T))\n",
    "        tanh_center = np.tanh(spc.h*spc.c * v_center/(2*spc.k*T))\n",
    "        g = v * tanh * f/(v_center*tanh_center)\n",
    "        return g\n",
    "    \n",
    "    def total_internal_partition(self):\n",
    "        '''\n",
    "        Valid only for temeratures between 70-565K\n",
    "        '''\n",
    "        T = self.temperature\n",
    "        a, b, c, d = self.coeff1, self.coeff2, self.coeff3, self.coeff4\n",
    "        Q = a + b*T + c*T**2 + d*T**3\n",
    "        return Q\n",
    "                \n",
    "    def line_intensity(self):\n",
    "        T = self.temperature\n",
    "        v_center = self.v_center\n",
    "        S_0, T_0 = self.S_0, 296\n",
    "        Q_T = self.total_internal_partition()\n",
    "        Q_T0 = 107.42\n",
    "        E_l = self.E_l\n",
    "        exp_lower = np.exp(spc.h*spc.c*E_l/(spc.k*T))\n",
    "        exp_lower0 = np.exp(spc.h*spc.c*E_l/(spc.k*T_0))\n",
    "        exp_center = np.exp(spc.h*spc.c*v_center/(spc.k*T))\n",
    "        exp_center0 = np.exp(spc.h*spc.c*v_center/(spc.k*T))\n",
    "        S = S_0*Q_T0*exp_lower*exp_center/(Q_T*exp_lower0*exp_center0)\n",
    "        return S\n",
    "        \n",
    "    def transmittance(self, v):\n",
    "        P = self.pressure\n",
    "        T = self.temperature\n",
    "        x = self.path_length\n",
    "        q = self.q\n",
    "        g = self.line_shape(v)\n",
    "        S = self.line_intensity()\n",
    "        numerator = -q*P*x*S*g\n",
    "        denominator = spc.Boltzmann * T\n",
    "        tau = np.exp(numerator/denominator)\n",
    "        return tau\n",
    "    \n",
    "    "
   ]
  },
  {
   "cell_type": "code",
   "execution_count": 20,
   "metadata": {},
   "outputs": [
    {
     "name": "stdout",
     "output_type": "stream",
     "text": [
      "Reading the excel file.\n"
     ]
    }
   ],
   "source": [
    "a = spectrum_singleGas()"
   ]
  },
  {
   "cell_type": "code",
   "execution_count": 21,
   "metadata": {},
   "outputs": [
    {
     "name": "stdout",
     "output_type": "stream",
     "text": [
      "I am molecule ID is 5.0 taken from HITRAN database\n",
      "My isotopologue ID is 1.0 taken from HITRAN database\n"
     ]
    }
   ],
   "source": [
    "v_centers = a.setParams('CO.txt')"
   ]
  },
  {
   "cell_type": "code",
   "execution_count": 22,
   "metadata": {},
   "outputs": [],
   "source": [
    "select = v_centers[0:10]"
   ]
  },
  {
   "cell_type": "code",
   "execution_count": 25,
   "metadata": {},
   "outputs": [
    {
     "name": "stdout",
     "output_type": "stream",
     "text": [
      "0\n",
      "1\n",
      "2\n",
      "3\n",
      "4\n",
      "5\n",
      "6\n",
      "7\n",
      "8\n",
      "9\n",
      "10\n",
      "11\n",
      "12\n",
      "13\n",
      "14\n",
      "15\n",
      "16\n",
      "17\n",
      "18\n",
      "19\n",
      "20\n",
      "21\n",
      "22\n",
      "23\n",
      "24\n",
      "25\n",
      "26\n",
      "27\n",
      "28\n",
      "29\n",
      "30\n",
      "31\n",
      "32\n",
      "33\n",
      "34\n",
      "35\n",
      "36\n",
      "37\n",
      "38\n",
      "39\n",
      "40\n",
      "41\n",
      "42\n",
      "43\n",
      "44\n",
      "45\n",
      "46\n",
      "47\n",
      "48\n",
      "49\n",
      "50\n",
      "51\n",
      "52\n",
      "53\n",
      "54\n",
      "55\n",
      "56\n",
      "57\n",
      "58\n",
      "59\n",
      "60\n",
      "61\n",
      "62\n",
      "63\n",
      "64\n",
      "65\n",
      "66\n",
      "67\n",
      "68\n",
      "69\n",
      "70\n",
      "71\n",
      "72\n",
      "73\n",
      "74\n",
      "75\n",
      "76\n",
      "77\n",
      "78\n",
      "79\n",
      "80\n",
      "81\n",
      "82\n",
      "83\n",
      "84\n",
      "85\n",
      "86\n",
      "87\n",
      "88\n",
      "89\n",
      "90\n",
      "91\n",
      "92\n",
      "93\n",
      "94\n",
      "95\n",
      "96\n",
      "97\n",
      "98\n",
      "99\n"
     ]
    }
   ],
   "source": [
    "vals = ([])\n",
    "i = 0\n",
    "for center in v_centers:\n",
    "    v = np.arange(center-100, center+100, 1)\n",
    "    for wavenumber in v:\n",
    "        tau = a.transmittance(wavenumber)\n",
    "        vals = np.append(vals, tau)\n",
    "    print(i)   \n",
    "    i = i+1"
   ]
  },
  {
   "cell_type": "code",
   "execution_count": 29,
   "metadata": {},
   "outputs": [
    {
     "data": {
      "text/plain": [
       "[<matplotlib.lines.Line2D at 0x1772a8978b0>]"
      ]
     },
     "execution_count": 29,
     "metadata": {},
     "output_type": "execute_result"
    },
    {
     "data": {
      "image/png": "[encoded data removed]",
      "text/plain": [
       "<Figure size 432x288 with 1 Axes>"
      ]
     },
     "metadata": {
      "needs_background": "light"
     },
     "output_type": "display_data"
    }
   ],
   "source": [
    "plt.plot(vals)"
   ]
  },
  {
   "cell_type": "code",
   "execution_count": null,
   "metadata": {},
   "outputs": [],
   "source": []
  },
  {
   "cell_type": "code",
   "execution_count": 23,
   "metadata": {},
   "outputs": [
    {
     "name": "stdout",
     "output_type": "stream",
     "text": [
      "Reading the excel file.\n"
     ]
    }
   ],
   "source": [
    "a = spectrum_singleGas()"
   ]
  },
  {
   "cell_type": "code",
   "execution_count": 28,
   "metadata": {},
   "outputs": [
    {
     "name": "stdout",
     "output_type": "stream",
     "text": [
      "I am molecule ID 22.0 from HITRAN database\n",
      "My isotopologue ID 1.0 from HITRAN database\n"
     ]
    }
   ],
   "source": [
    "a.setParams('N2.txt')"
   ]
  },
  {
   "cell_type": "code",
   "execution_count": 17,
   "metadata": {},
   "outputs": [
    {
     "name": "stdout",
     "output_type": "stream",
     "text": [
      "I am molecule ID 5.0 from HITRAN database\n",
      "My isotopologue ID 1.0 from HITRAN database, that means I am the most abundant topologue\n"
     ]
    }
   ],
   "source": [
    "v_center, S_0, delta_ait, alphaLorentz_a, alphaDoppler_s, gamma, E_l = get_params('CO.txt')"
   ]
  },
  {
   "cell_type": "code",
   "execution_count": null,
   "metadata": {},
   "outputs": [],
   "source": [
    "'''\n",
    "Pressure profile numbers\n",
    "'''\n",
    "0.03114759459223761, 99.88052581859645\n",
    "0.04262541256340627, 98.93404132848241\n",
    "0.07396330468192495, 96.72792770958246\n",
    "0.11301339760002972, 95.15173882029576\n",
    "0.24864588317020964, 92.209556282034\n",
    "0.3930284488717709, 90.4235026480965\n",
    "0.5954637653326739, 88.74271188214527\n",
    "0.9654835333099134, 86.53747958500763\n",
    "1.984897261790517, 83.17733020096892\n",
    "2.981859058125867, 81.39193755835316\n",
    "4.404246790234677, 79.71147728806278\n",
    "7.707288763992225, 76.87698125263366\n",
    "12.286455656692105, 74.46254520216698\n",
    "20.09085512084656, 71.94306661415459\n",
    "34.861505127091675, 68.89925666017612\n",
    "57.980570316010635, 66.17013365795353\n",
    "97.25257399727431, 63.33618844862584\n",
    "143.6433877390448, 61.23688001079621\n",
    "219.48217918303857, 58.92770682831578\n",
    "387.3570995946821, 55.98838858578154\n",
    "655.2581246199782, 52.63077300180948\n",
    "1053.4639388558178, 49.273818409159155\n",
    "1812.5296226833775, 45.39242228532242\n",
    "2566.0096489281436, 42.77010446417015\n",
    "3790.031500384198, 39.3095394818379\n",
    "6632.431966086814, 33.85724239928835\n",
    "10220.419000618213, 29.453718213891293\n",
    "16431.452663623844, 23.688386657890177\n",
    "21921.649246600668, 20.54327978385585\n",
    "29999.727280369407, 16.560146079082116\n",
    "39685.54042726621, 12.472740993304711\n",
    "62729.96036732756, 6.184069558320104\n",
    "91095.097001193, 0.10592385930800674"
   ]
  },
  {
   "cell_type": "code",
   "execution_count": null,
   "metadata": {},
   "outputs": [],
   "source": [
    "'''\n",
    "Temperature Profiles\n",
    "'''\n",
    "\n",
    "166.07142857142856, 99.79035639412999\n",
    "173.6344537815126, 94.33962264150945\n",
    "181.19747899159665, 90.04192872117402\n",
    "191.5966386554622, 85.95387840670861\n",
    "201.99579831932772, 83.12368972746333\n",
    "216.17647058823528, 79.45492662473796\n",
    "230.35714285714283, 77.04402515723271\n",
    "236.34453781512605, 75.36687631027254\n",
    "238.8655462184874, 74.42348008385746\n",
    "240.75630252100837, 72.8511530398323\n",
    "242.96218487394958, 70.44025157232706\n",
    "244.22268907563023, 67.9245283018868\n",
    "242.33193277310926, 66.03773584905662\n",
    "244.8529411764706, 63.94129979035641\n",
    "247.3739495798319, 62.8930817610063\n",
    "248.94957983193274, 61.94968553459121\n",
    "245.16806722689074, 60.69182389937108\n",
    "240.44117647058823, 59.433962264150956\n",
    "239.18067226890756, 58.595387840670874\n",
    "240.12605042016804, 57.75681341719079\n",
    "242.96218487394958, 57.65199161425578\n",
    "246.74369747899158, 57.12788259958072\n",
    "249.89495798319325, 56.813417190775695\n",
    "299.0546218487395, 52.201257861635234\n",
    "322.37394957983196, 49.68553459119499\n",
    "353.57142857142856, 45.91194968553461\n",
    "404.30672268907557, 40.25157232704403\n",
    "436.13445378151255, 36.68763102725369\n",
    "468.90756302521004, 32.9140461215933\n",
    "504.516806722689, 29.035639412997924\n",
    "536.6596638655462, 25.262054507337538\n",
    "559.9789915966386, 22.641509433962284\n",
    "599.6848739495798, 17.610062893081775\n",
    "627.4159663865546, 14.150943396226424\n",
    "648.844537815126, 11.320754716981142\n",
    "681.9327731092437, 6.708595387840688\n",
    "725.7352941176471, 1.257861635220138\n",
    "733.9285714285713, 0"
   ]
  },
  {
   "cell_type": "code",
   "execution_count": 6,
   "metadata": {},
   "outputs": [],
   "source": [
    "f = np.loadtxt('/Users/akank/Downloads/CO.txt', delimiter=',')\n",
    "#print(f.read())\n",
    "#f.close()"
   ]
  },
  {
   "cell_type": "code",
   "execution_count": 7,
   "metadata": {},
   "outputs": [
    {
     "data": {
      "text/plain": [
       "(1344, 9)"
      ]
     },
     "execution_count": 7,
     "metadata": {},
     "output_type": "execute_result"
    }
   ],
   "source": [
    "f.shape"
   ]
  },
  {
   "cell_type": "code",
   "execution_count": 25,
   "metadata": {},
   "outputs": [
    {
     "data": {
      "text/plain": [
       "[<matplotlib.lines.Line2D at 0x10b27cd79a0>]"
      ]
     },
     "execution_count": 25,
     "metadata": {},
     "output_type": "execute_result"
    },
    {
     "data": {
      "image/png": "[encoded data removed]",
      "text/plain": [
       "<Figure size 432x288 with 1 Axes>"
      ]
     },
     "metadata": {
      "needs_background": "light"
     },
     "output_type": "display_data"
    }
   ],
   "source": [
    "x = []\n",
    "for y in f.read().split(','):\n",
    "    print(y)\n",
    "    if y.isdigit():\n",
    "        x.append(float(y))\n",
    "\n",
    "plt.plot(x)"
   ]
  },
  {
   "cell_type": "code",
   "execution_count": 4,
   "metadata": {},
   "outputs": [
    {
     "data": {
      "text/plain": [
       "'\\nConventions \\n\\nv = wavenumber[cm^-1] --- number if waves per cm. v = f/c\\ntau = transmittance --- ratio of transmitted radiance to incident radiance\\nepsilon = emissivity --- ratio of emitted radiance at v to the radiance emitted by the black body at the same temperature\\nalpha = absorptivity --- fraction of incident radiance at v that is absorbed\\n\\n'"
      ]
     },
     "execution_count": 4,
     "metadata": {},
     "output_type": "execute_result"
    }
   ],
   "source": [
    "'''\n",
    "Conventions \n",
    "\n",
    "v = wavenumber[cm^-1] --- number if waves per cm. v = f/c\n",
    "tau = transmittance --- ratio of transmitted radiance to incident radiance\n",
    "epsilon = emissivity --- ratio of emitted radiance at v to the radiance emitted by the black body at the same temperature\n",
    "alpha = absorptivity --- fraction of incident radiance at v that is absorbed\n",
    "g = line shape\n",
    "f = voigt profile\n",
    "S = line intesity\n",
    "alpha_doppler =\n",
    "alpha_lorentz = \n",
    "v_center = \n",
    "E_l = \n",
    "T_0 = 296K\n",
    "P_0 = 1atm\n",
    "\n",
    "'''\n",
    "\n",
    "'''\n",
    "Parameters\n",
    "\n",
    "v = give a list of values to calculate(spectral range)\n",
    "\n",
    "'''"
   ]
  },
  {
   "cell_type": "code",
   "execution_count": 9,
   "metadata": {},
   "outputs": [],
   "source": [
    "def wavenumber_center(pressure):\n",
    "    P_0 = 1 #[atm] \n",
    "    pressureRatio = pressure/P_0\n",
    "    #delta = \n",
    "    #v_0 =\n",
    "    v_center = v_0 + delta*pressureRatio\n",
    "    return v_center\n",
    "\n",
    "def doppler_broadening(temperature):\n",
    "    '''\n",
    "    For pressures less than 0.1 atm, altitudes below 16 km\n",
    "    '''\n",
    "    T = temperature\n",
    "    v_center = wavenumber_center(pressure) \n",
    "    #m = \n",
    "    sqrt = np.sqrt(2*spc.k*T/(m*spc.c**2))\n",
    "    alpha_doppler = v_center*sqrt\n",
    "    return alpha_doppler\n",
    "    \n",
    "def lorentz_broadening(pressure, temperature):\n",
    "    P, T = pressure, temperature\n",
    "    P_0 = 1 #[atm] unsure\n",
    "    T_0 = 296 #[K]\n",
    "    #alphaLorentz_a = \n",
    "    #alphaLorentz_s = \n",
    "    #q = \n",
    "    #gamma = \n",
    "    pressureRatio = P/P_0\n",
    "    tempRatio = T_0/T\n",
    "    alpha_lorentz = ((1-q)*alphaLorentz_a+q*alphaLorentz_s)*pressureRatio*tempRatio**gamma\n",
    "    return alpha_lorentz\n",
    "\n",
    "def integral_func(t, a, b):\n",
    "    val = np.exp(-t**2)/((a - t)**2 + b**2)\n",
    "    return val\n",
    "    \n",
    "def voigt_profile():\n",
    "    alpha_doppler = doppler_broadening(pressure, temperature)\n",
    "    alpha_lorentz = lorentz_broadening(temperature)\n",
    "    #v = \n",
    "    v_center = wavenumber_center(pressure)  \n",
    "    a = (v - v_center)/alpha_doppler\n",
    "    b = alpha_lorentz/alpha_doppler\n",
    "    integral = quad(integral_func, -np.inf, np.inf, )\n",
    "    f = b*integral /(alpha_doppler*np.sqrt(np.pi)*np.pi)\n",
    "    return f\n",
    "\n",
    "def line_shape():\n",
    "    #v =\n",
    "    v_center = wavenumber_center(pressure)  \n",
    "    f = voigt_profile()\n",
    "    tanh = np.tanh(spc.h*spc.c*v/(2*spc.k*T))\n",
    "    tanh_center = np.tanh(spc.h*spc.c * v_center/(2*spc.k*T))\n",
    "    g = v * tanh * f/(v_center*tanh_center)\n",
    "    return g\n",
    "\n",
    "def line_shape(pressure):\n",
    "    if pressure > 0.1:\n",
    "        alpha = lorentz_broadening(pressure, temperature)\n",
    "        a = ((v - v_c)/alpha)**2\n",
    "        f = 1/(np.pi*alpha*(1+a))\n",
    "        return f\n",
    "    else:\n",
    "        alpha = doppler_broadening(temperature)\n",
    "        sigma = alpha*2/2.355\n",
    "        a = ((v - v_c)/4*sigma)**2\n",
    "        f = np.exp(-a)/(sigma*np.sqrt(2*np.pi))\n",
    "        return f\n",
    "    \n",
    "def line_intensity(temperature):\n",
    "    T = temperature\n",
    "    v_center = wavenumber_center(pressure)\n",
    "    #S_0, T_0 = ,296\n",
    "    #Q_v, Q_r = \n",
    "    #Q_v0, Q_r0 =\n",
    "    #E_l = \n",
    "    exp_lower = np.exp(spc.h*spc.c*E_l/(spc.k*T))\n",
    "    exp_lower0 = np.exp(spc.h*spc.c*E_l/(spc.k*T_0))\n",
    "    exp_center = np.exp(spc.h*spc.c*v_center/(spc.k*T))\n",
    "    exp_center0 = np.exp(spc.h*spc.c*v_center/(spc.k*T))\n",
    "    S = S_0*Q_v0*Q_r0*exp_lower*exp_center/(Q_v*Q_r*exp_lower0*exp_center0)\n",
    "    return S\n",
    "    \n",
    "def transmittance(pressure, temperature):\n",
    "    P = pressure\n",
    "    T = temperature\n",
    "    #x = \n",
    "    #q = \n",
    "    g = line_shape()\n",
    "    S = line_intensity(temperature)\n",
    "    numerator = -q*P*x*S*g\n",
    "    denominator = spc.Boltzmann * T\n",
    "    tau = np.exp(numerator/denominator)\n",
    "    return tau"
   ]
  },
  {
   "cell_type": "code",
   "execution_count": null,
   "metadata": {},
   "outputs": [],
   "source": []
  }
 ],
 "metadata": {
  "kernelspec": {
   "display_name": "Python 3",
   "language": "python",
   "name": "python3"
  }
 },
 "nbformat": 4,
 "nbformat_minor": 4
}
